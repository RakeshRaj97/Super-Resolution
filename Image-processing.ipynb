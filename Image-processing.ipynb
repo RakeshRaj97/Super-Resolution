{
 "cells": [
  {
   "cell_type": "code",
   "execution_count": 1,
   "metadata": {},
   "outputs": [],
   "source": [
    "import os\n",
    "import argparse\n",
    "import cv2\n",
    "\n",
    "#parse args\n",
    "parser = argparse.ArgumentParser(description='Downsize images at 2x using bicubic interpolation')\n",
    "parser.add_argument(\"hr_img_dir\", help=\"path to high resolution image dir\")\n",
    "parser.add_argument(\"lr_img_dir\", help=\"path to desired output dir for downsampled images\")\n",
    "parser.add_argument(\"-k\", \"--keepdims\", help=\"keep original image dimensions in downsampled images\", action=\"store_true\")\n",
    "args = parser.parse_args(args=[\"hr_img_dir\",\"lr_img_dir\",\"-k\", \"--keepdims\"])\n",
    "\n",
    "hr_image_dir = args.hr_img_dir\n",
    "lr_image_dir = args.lr_img_dir\n",
    "\n",
    "#create LR image dirs\n",
    "os.makedirs(lr_image_dir + \"/2x\", exist_ok=True)\n",
    "os.makedirs(lr_image_dir + \"/3x\", exist_ok=True)\n",
    "os.makedirs(lr_image_dir + \"/4x\", exist_ok=True)\n",
    "os.makedirs(lr_image_dir + \"/5x\", exist_ok=True)\n",
    "os.makedirs(lr_image_dir + \"/6x\", exist_ok=True)\n",
    "\n",
    "supported_img_formats = (\".bmp\", \".dib\", \".jpeg\", \".jpg\", \".jpe\", \".jp2\",\n",
    "                         \".png\", \".pbm\", \".pgm\", \".ppm\", \".sr\", \".ras\", \".tif\",\n",
    "                         \".tiff\")\n",
    "\n",
    "#Downsample HR images\n",
    "for filename in os.listdir(hr_image_dir):\n",
    "    if not filename.endswith(supported_img_formats):\n",
    "        continue\n",
    "\n",
    "    #Read HR image\n",
    "    hr_img = cv2.imread(os.path.join(hr_image_dir, filename))\n",
    "    hr_img_dims = (hr_img.shape[1], hr_img.shape[0])\n",
    "\n",
    "    #Blur with Gaussian kernel of width sigma = 1\n",
    "    hr_img = cv2.GaussianBlur(hr_img, (0,0), 1, 1)\n",
    "\n",
    "    #Downsample image 2x\n",
    "    lr_image_2x = cv2.resize(hr_img, (0,0), fx=0.5, fy=0.5, interpolation=cv2.INTER_CUBIC)\n",
    "    if args.keepdims:\n",
    "        lr_image_2x = cv2.resize(lr_image_2x, hr_img_dims, interpolation=cv2.INTER_CUBIC)\n",
    "\n",
    "    cv2.imwrite(os.path.join(lr_image_dir + \"/2x\", filename), lr_image_2x)\n",
    "    \n",
    "    # Downsample image 3x\n",
    "    lr_img_3x = cv2.resize(hr_img, (0, 0), fx=(1 / 3), fy=(1 / 3),\n",
    "                           interpolation=cv2.INTER_CUBIC)\n",
    "    if args.keepdims:\n",
    "        lr_img_3x = cv2.resize(lr_img_3x, hr_img_dims,\n",
    "                               interpolation=cv2.INTER_CUBIC)\n",
    "    cv2.imwrite(os.path.join(lr_image_dir + \"/3x\", filename), lr_img_3x)\n",
    "\n",
    "    # Downsample image 4x\n",
    "    lr_img_4x = cv2.resize(hr_img, (0, 0), fx=0.25, fy=0.25,\n",
    "                           interpolation=cv2.INTER_CUBIC)\n",
    "    if args.keepdims:\n",
    "        lr_img_4x = cv2.resize(lr_img_4x, hr_img_dims,\n",
    "                               interpolation=cv2.INTER_CUBIC)\n",
    "    cv2.imwrite(os.path.join(lr_image_dir + \"/4x\", filename), lr_img_4x)\n",
    "    \n",
    "    # Downsample image 5x\n",
    "    lr_img_5x = cv2.resize(hr_img, (0, 0), fx=0.20, fy=0.20,\n",
    "                           interpolation=cv2.INTER_CUBIC)\n",
    "    if args.keepdims:\n",
    "        lr_img_5x = cv2.resize(lr_img_5x, hr_img_dims,\n",
    "                               interpolation=cv2.INTER_CUBIC)\n",
    "    cv2.imwrite(os.path.join(lr_image_dir + \"/5x\", filename), lr_img_5x)\n",
    "    \n",
    "    # Downsample image 6x\n",
    "    lr_img_6x = cv2.resize(hr_img, (0, 0), fx=0.167, fy=0.167,\n",
    "                           interpolation=cv2.INTER_CUBIC)\n",
    "    if args.keepdims:\n",
    "        lr_img_6x = cv2.resize(lr_img_6x, hr_img_dims,\n",
    "                               interpolation=cv2.INTER_CUBIC)\n",
    "    cv2.imwrite(os.path.join(lr_image_dir + \"/6x\", filename), lr_img_6x)"
   ]
  },
  {
   "cell_type": "raw",
   "metadata": {},
   "source": []
  },
  {
   "cell_type": "code",
   "execution_count": null,
   "metadata": {},
   "outputs": [],
   "source": []
  },
  {
   "cell_type": "code",
   "execution_count": null,
   "metadata": {},
   "outputs": [],
   "source": []
  },
  {
   "cell_type": "code",
   "execution_count": null,
   "metadata": {},
   "outputs": [],
   "source": []
  },
  {
   "cell_type": "code",
   "execution_count": null,
   "metadata": {},
   "outputs": [],
   "source": []
  },
  {
   "cell_type": "code",
   "execution_count": null,
   "metadata": {},
   "outputs": [],
   "source": []
  },
  {
   "cell_type": "code",
   "execution_count": null,
   "metadata": {},
   "outputs": [],
   "source": []
  },
  {
   "cell_type": "code",
   "execution_count": null,
   "metadata": {},
   "outputs": [],
   "source": []
  },
  {
   "cell_type": "code",
   "execution_count": null,
   "metadata": {},
   "outputs": [],
   "source": []
  },
  {
   "cell_type": "code",
   "execution_count": null,
   "metadata": {},
   "outputs": [],
   "source": []
  }
 ],
 "metadata": {
  "kernelspec": {
   "display_name": "Python 3",
   "language": "python",
   "name": "python3"
  },
  "language_info": {
   "codemirror_mode": {
    "name": "ipython",
    "version": 3
   },
   "file_extension": ".py",
   "mimetype": "text/x-python",
   "name": "python",
   "nbconvert_exporter": "python",
   "pygments_lexer": "ipython3",
   "version": "3.7.6"
  }
 },
 "nbformat": 4,
 "nbformat_minor": 2
}
